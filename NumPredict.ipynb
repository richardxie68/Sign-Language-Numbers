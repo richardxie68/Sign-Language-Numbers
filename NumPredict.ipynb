{
  "cells": [
    {
      "metadata": {
        "_uuid": "a5f2d3f6246fe1c767e3b9469c17d1bf09c04708",
        "_cell_guid": "6f7e7923-bf6d-4e89-a4d2-601f11648598"
      },
      "cell_type": "markdown",
      "source": "**Welcome to my Sign Language Number Predictor** \n* In this model, I will be predicting numbers from this dataset that includes pictures of numbers expressed in sign language.\n* I will be utilizing logistic regression to implement an artifical neural network, which includes many concepts such as forward propagation, backward propagation, and lost/cost functions.\n"
    },
    {
      "metadata": {
        "_uuid": "79f18357b846d2cd91e0f7b2389e1dba8097cbdb",
        "_cell_guid": "6fe1e8d5-b36d-4e39-9a9b-34618b5e275e",
        "trusted": true
      },
      "cell_type": "code",
      "source": "# loading in helpful packages\nimport numpy as np # linear algebra\nimport pandas as pd # data processing, CSV file I/O (e.g. pd.read_csv)\nimport matplotlib.pyplot as plt\n# Input data files are available in the \"../input/\" directory.\n# For example, running this (by clicking run or pressing Shift+Enter) will list the files in the input directory\n# import warnings\nimport warnings\n# filter warnings\nwarnings.filterwarnings('ignore')\nfrom subprocess import check_output\nprint(check_output([\"ls\", \"../input\"]).decode(\"utf8\")) \n# results written to the current directory saved as output.",
      "execution_count": 75,
      "outputs": [
        {
          "output_type": "stream",
          "text": "Sign-language-digits-dataset\n\n",
          "name": "stdout"
        }
      ]
    },
    {
      "metadata": {
        "_uuid": "3e3e94ca5c9349ac36416482d30af378966c7a8a",
        "_cell_guid": "62bb7abd-122c-4f87-97ad-eb203e9dea1f"
      },
      "cell_type": "markdown",
      "source": "# Overview of the Data Set\n* In this data there are 2062 sign language digits images.\n* Sign zero is between indexes 204 and 408. Number of zero sign is 205. Sign one is between indexes 822 and 1027. Number of one sign is 206.\n* Lets prepare our X and Y arrays. X is image array (zero and one signs) and Y is label array (0 and 1)."
    },
    {
      "metadata": {
        "_uuid": "d6b38399b27c2d723750c0b4f8787a7d6d0025ea",
        "_cell_guid": "4768ce70-3e7f-4ac9-8764-642e88006b77",
        "trusted": true
      },
      "cell_type": "code",
      "source": "# load data set\nx_l = np.load('../input/Sign-language-digits-dataset/X.npy')\nY_l = np.load('../input/Sign-language-digits-dataset/Y.npy')\nimg_size = 64\nplt.subplot(1, 2, 1)\nplt.imshow(x_l[260].reshape(img_size, img_size))\nplt.axis('off')\nplt.subplot(1, 2, 2)\nplt.imshow(x_l[900].reshape(img_size, img_size))\nplt.axis('off')",
      "execution_count": 76,
      "outputs": [
        {
          "output_type": "execute_result",
          "execution_count": 76,
          "data": {
            "text/plain": "(-0.5, 63.5, 63.5, -0.5)"
          },
          "metadata": {}
        },
        {
          "output_type": "display_data",
          "data": {
            "text/plain": "<Figure size 432x288 with 2 Axes>",
            "image/png": "[encoded data removed]"
          },
          "metadata": {}
        }
      ]
    },
    {
      "metadata": {
        "_uuid": "ad417f6189b0d9476388d92b6be09c887f7f1a40",
        "_cell_guid": "88a9b18b-12c7-46d6-8370-e2f02b55dd7a",
        "trusted": true
      },
      "cell_type": "code",
      "source": "# Join a sequence of arrays along an row axis.\nX = np.concatenate((x_l[204:409], x_l[822:1027] ), axis=0) # from 0 to 204 is zero sign and from 205 to 410 is one sign \nz = np.zeros(205)\no = np.ones(205)\nY = np.concatenate((z, o), axis=0).reshape(X.shape[0],1)\nprint(\"X shape: \" , X.shape)\nprint(\"Y shape: \" , Y.shape)",
      "execution_count": 77,
      "outputs": [
        {
          "output_type": "stream",
          "text": "X shape:  (410, 64, 64)\nY shape:  (410, 1)\n",
          "name": "stdout"
        }
      ]
    },
    {
      "metadata": {
        "_uuid": "a999c02e74af603d65a4442842d739aa351f593c",
        "_cell_guid": "d6024477-cf34-40f9-b079-8388b5146e1b"
      },
      "cell_type": "markdown",
      "source": "* The shape of the X is (410, 64, 64)\n    * 410 means that we have 410 images (zero and one signs)\n    * 64 means that our image size is 64x64 (64x64 pixels)\n* The shape of the Y is (410,1)\n    *  410 means that we have 410 labels (0 and 1) \n* Lets split X and Y into train and test sets.\n    * test_size = percentage of test size. test = 15% and train = 75%\n    * random_state = use same seed while randomizing. It means that if we call train_test_split repeatedly, it always creates same train and test distribution because we have same random_state."
    },
    {
      "metadata": {
        "_uuid": "82869efdb6890ede1899c1bc8c90fa8b1caceec3",
        "_cell_guid": "00db1f03-75d3-48dc-a6fb-824a58790d42",
        "trusted": true
      },
      "cell_type": "code",
      "source": "# Then lets create x_train, y_train, x_test, y_test arrays\nfrom sklearn.model_selection import train_test_split\nX_train, X_test, Y_train, Y_test = train_test_split(X, Y, test_size=0.15, random_state=42)\nnumber_of_train = X_train.shape[0]\nnumber_of_test = X_test.shape[0]",
      "execution_count": 78,
      "outputs": []
    },
    {
      "metadata": {
        "_uuid": "e294dc952e7ba34569162a8965680ead8edd2834",
        "_cell_guid": "4bb55e07-cabb-46ce-b21a-fe4a7b34995f"
      },
      "cell_type": "markdown",
      "source": "* Flattening X array (images array) into 2D to use as input.\n"
    },
    {
      "metadata": {
        "_uuid": "f8b7203144bc85873d960f765e2bb3e711b57f30",
        "_cell_guid": "f5937123-1e16-4036-844b-f498ed42e504",
        "trusted": true
      },
      "cell_type": "code",
      "source": "X_train_flatten = X_train.reshape(number_of_train,X_train.shape[1]*X_train.shape[2])\nX_test_flatten = X_test .reshape(number_of_test,X_test.shape[1]*X_test.shape[2])\nprint(\"X train flatten\",X_train_flatten.shape)\nprint(\"X test flatten\",X_test_flatten.shape)",
      "execution_count": 79,
      "outputs": [
        {
          "output_type": "stream",
          "text": "X train flatten (348, 4096)\nX test flatten (62, 4096)\n",
          "name": "stdout"
        }
      ]
    },
    {
      "metadata": {
        "_uuid": "40c4a1af2372960d36b6649f5baf4915e9e16738",
        "_cell_guid": "b9ec7e1d-186b-4911-be80-bc856f43b689"
      },
      "cell_type": "markdown",
      "source": "# Logistic Regression\n## Initializing parameters\n* Each pixels have own weights.\n* The initial suitable weights that I have set is 0.1"
    },
    {
      "metadata": {
        "_uuid": "f3be95b8ca86fea08336badabf563b5f8f59a142",
        "_cell_guid": "74d461fc-4aa9-4b76-bd26-43551cef138b",
        "trusted": true
      },
      "cell_type": "code",
      "source": "# short description and example of definition (def)\ndef dummy(parameter):\n    dummy_parameter = parameter + 5\n    return dummy_parameter\nresult = dummy(3)     # result = 8\n\n# lets initialize parameters\n# So what we need is dimension 4096 that is number of pixels as a parameter for our initialize method(def)\ndef initialize_weights_and_bias(dimension):\n    w = np.full((dimension,1),0.01)\n    b = 0.0\n    return w, b",
      "execution_count": 80,
      "outputs": []
    },
    {
      "metadata": {
        "_uuid": "dde6fab55966b2de3dc808e03613df9bea7bb0d2",
        "_cell_guid": "1fbf27d5-1f4b-4b94-a757-99e2becf54a0"
      },
      "cell_type": "markdown",
      "source": "## Forward Propagation\n* We will be using foward propagation for the steps from changing the pixels of the pictures to the cost\n* I will be able to cacluate z = (w.T)x + b, where w.T is the weight and b is the biase.\n* Afterwards, I will be able to put z into the sigmoid function that returns y_head, which is the probability."
    },
    {
      "metadata": {
        "_uuid": "e024479bce9ce2022f65ffd586a6c29b124e7ab5",
        "_cell_guid": "697be401-792b-46c0-8fe6-79cd65110419",
        "trusted": true
      },
      "cell_type": "code",
      "source": "# calculation of z\n#z = np.dot(w.T,x_train)+b\ndef sigmoid(z):\n    y_head = 1/(1+np.exp(-z))\n    return y_head",
      "execution_count": 81,
      "outputs": []
    },
    {
      "metadata": {
        "trusted": true,
        "_uuid": "da7e0244449200eaf382507806f01901f1d281c8"
      },
      "cell_type": "code",
      "source": "y_head = sigmoid(0)",
      "execution_count": 82,
      "outputs": []
    },
    {
      "metadata": {
        "_uuid": "447f1ee51819fdfeba0e1ce0b03449cb549510ed",
        "_cell_guid": "adbc7d22-8bba-48c1-b754-75c9d4f0543c",
        "trusted": true
      },
      "cell_type": "code",
      "source": "def forward_propagation(w,b,x_train,y_train):\n    z = np.dot(w.T,x_train) + b\n    y_head = sigmoid(z) # probabilistic 0-1\n    loss = -y_train*np.log(y_head)-(1-y_train)*np.log(1-y_head)\n    cost = (np.sum(loss))/x_train.shape[1]      # x_train.shape[1]  is for scaling\n    return cost ",
      "execution_count": 83,
      "outputs": []
    },
    {
      "metadata": {
        "_uuid": "088f192f99d2a31f041116c893ec713ef3b4fe43",
        "_cell_guid": "2b74bb7c-bcbe-4865-ac61-25ced274e7de",
        "trusted": true
      },
      "cell_type": "code",
      "source": "# In backward propagation we will use y_head that found in forward progation\n# Therefore instead of writing backward propagation method, lets combine forward propagation and backward propagation\ndef forward_backward_propagation(w,b,x_train,y_train):\n    # forward propagation\n    z = np.dot(w.T,x_train) + b\n    y_head = sigmoid(z)\n    loss = -y_train*np.log(y_head)-(1-y_train)*np.log(1-y_head)\n    cost = (np.sum(loss))/x_train.shape[1]      # x_train.shape[1]  is for scaling\n    # backward propagation\n    derivative_weight = (np.dot(x_train,((y_head-y_train).T)))/x_train.shape[1] # x_train.shape[1]  is for scaling\n    derivative_bias = np.sum(y_head-y_train)/x_train.shape[1]                 # x_train.shape[1]  is for scaling\n    gradients = {\"derivative_weight\": derivative_weight,\"derivative_bias\": derivative_bias}\n    return cost,gradients",
      "execution_count": 84,
      "outputs": []
    },
    {
      "metadata": {
        "_uuid": "31299bda686ae2ab157ea18df70e4741e5225345",
        "_cell_guid": "0940e18d-636d-4503-a2c6-1994024726fe",
        "trusted": true
      },
      "cell_type": "code",
      "source": "# Updating(learning) parameters\ndef update(w, b, x_train, y_train, learning_rate,number_of_iterarion):\n    cost_list = []\n    cost_list2 = []\n    index = []\n    # updating(learning) parameters is number_of_iterarion times\n    for i in range(number_of_iterarion):\n        # make forward and backward propagation and find cost and gradients\n        cost,gradients = forward_backward_propagation(w,b,x_train,y_train)\n        cost_list.append(cost)\n        # lets update\n        w = w - learning_rate * gradients[\"derivative_weight\"]\n        b = b - learning_rate * gradients[\"derivative_bias\"]\n        if i % 10 == 0:\n            cost_list2.append(cost)\n            index.append(i)\n            print (\"Cost after iteration %i: %f\" %(i, cost))\n    # we update(learn) parameters weights and bias\n    parameters = {\"weight\": w,\"bias\": b}\n    plt.plot(index,cost_list2)\n    plt.xticks(index,rotation='vertical')\n    plt.xlabel(\"Number of Iterarion\")\n    plt.ylabel(\"Cost\")\n    plt.show()\n    return parameters, gradients, cost_list\n#parameters, gradients, cost_list = update(w, b, x_train, y_train, learning_rate = 0.009,number_of_iterarion = 200)",
      "execution_count": 85,
      "outputs": []
    },
    {
      "metadata": {
        "_uuid": "c9b80f081f49a722818cfebfc01e8b8dc69db9c1",
        "_cell_guid": "1fd35d0f-e989-49fa-9bcb-1769d92a5ab4",
        "trusted": true
      },
      "cell_type": "code",
      "source": " # prediction\ndef predict(w,b,x_test):\n    # x_test is a input for forward propagation\n    z = sigmoid(np.dot(w.T,x_test)+b)\n    Y_prediction = np.zeros((1,x_test.shape[1]))\n    # if z is bigger than 0.5, our prediction is sign one (y_head=1),\n    # if z is smaller than 0.5, our prediction is sign zero (y_head=0),\n    for i in range(z.shape[1]):\n        if z[0,i]<= 0.5:\n            Y_prediction[0,i] = 0\n        else:\n            Y_prediction[0,i] = 1\n\n    return Y_prediction\n# predict(parameters[\"weight\"],parameters[\"bias\"],x_test)",
      "execution_count": 86,
      "outputs": []
    },
    {
      "metadata": {
        "_uuid": "81fb6989ff3860d72462f8212b1d00325272a471",
        "_cell_guid": "029e2cd3-125b-4ca4-8b94-25d8164ba1a7",
        "trusted": true
      },
      "cell_type": "code",
      "source": "def logistic_regression(x_train, y_train, x_test, y_test, learning_rate ,  num_iterations):\n    # initialize\n    dimension =  x_train.shape[0]  # that is 4096\n    w,b = initialize_weights_and_bias(dimension)\n    # do not change learning rate\n    parameters, gradients, cost_list = update(w, b, x_train, y_train, learning_rate,num_iterations)\n    \n    y_prediction_test = predict(parameters[\"weight\"],parameters[\"bias\"],x_test)\n    y_prediction_train = predict(parameters[\"weight\"],parameters[\"bias\"],x_train)\n\n    # Print train/test Errors\n    print(\"train accuracy: {} %\".format(100 - np.mean(np.abs(y_prediction_train - y_train)) * 100))\n    print(\"test accuracy: {} %\".format(100 - np.mean(np.abs(y_prediction_test - y_test)) * 100))\n    \nlogistic_regression(x_train, y_train, x_test, y_test,learning_rate = 0.01, num_iterations = 150)",
      "execution_count": 87,
      "outputs": [
        {
          "output_type": "stream",
          "text": "Cost after iteration 0: 446.227553\nCost after iteration 10: 21.550821\nCost after iteration 20: 11.303814\nCost after iteration 30: 7.698877\nCost after iteration 40: 5.852599\n",
          "name": "stdout"
        },
        {
          "output_type": "error",
          "ename": "KeyboardInterrupt",
          "evalue": "",
          "traceback": [
            "\u001b[0;31m---------------------------------------------------------------------------\u001b[0m",
            "\u001b[0;31mKeyboardInterrupt\u001b[0m                         Traceback (most recent call last)",
            "\u001b[0;32m<ipython-input-87-40398a9d4fbd>\u001b[0m in \u001b[0;36m<module>\u001b[0;34m()\u001b[0m\n\u001b[1;32m     13\u001b[0m     \u001b[0mprint\u001b[0m\u001b[0;34m(\u001b[0m\u001b[0;34m\"test accuracy: {} %\"\u001b[0m\u001b[0;34m.\u001b[0m\u001b[0mformat\u001b[0m\u001b[0;34m(\u001b[0m\u001b[0;36m100\u001b[0m \u001b[0;34m-\u001b[0m \u001b[0mnp\u001b[0m\u001b[0;34m.\u001b[0m\u001b[0mmean\u001b[0m\u001b[0;34m(\u001b[0m\u001b[0mnp\u001b[0m\u001b[0;34m.\u001b[0m\u001b[0mabs\u001b[0m\u001b[0;34m(\u001b[0m\u001b[0my_prediction_test\u001b[0m \u001b[0;34m-\u001b[0m \u001b[0my_test\u001b[0m\u001b[0;34m)\u001b[0m\u001b[0;34m)\u001b[0m \u001b[0;34m*\u001b[0m \u001b[0;36m100\u001b[0m\u001b[0;34m)\u001b[0m\u001b[0;34m)\u001b[0m\u001b[0;34m\u001b[0m\u001b[0m\n\u001b[1;32m     14\u001b[0m \u001b[0;34m\u001b[0m\u001b[0m\n\u001b[0;32m---> 15\u001b[0;31m \u001b[0mlogistic_regression\u001b[0m\u001b[0;34m(\u001b[0m\u001b[0mx_train\u001b[0m\u001b[0;34m,\u001b[0m \u001b[0my_train\u001b[0m\u001b[0;34m,\u001b[0m \u001b[0mx_test\u001b[0m\u001b[0;34m,\u001b[0m \u001b[0my_test\u001b[0m\u001b[0;34m,\u001b[0m\u001b[0mlearning_rate\u001b[0m \u001b[0;34m=\u001b[0m \u001b[0;36m0.01\u001b[0m\u001b[0;34m,\u001b[0m \u001b[0mnum_iterations\u001b[0m \u001b[0;34m=\u001b[0m \u001b[0;36m150\u001b[0m\u001b[0;34m)\u001b[0m\u001b[0;34m\u001b[0m\u001b[0m\n\u001b[0m",
            "\u001b[0;32m<ipython-input-87-40398a9d4fbd>\u001b[0m in \u001b[0;36mlogistic_regression\u001b[0;34m(x_train, y_train, x_test, y_test, learning_rate, num_iterations)\u001b[0m\n\u001b[1;32m      4\u001b[0m     \u001b[0mw\u001b[0m\u001b[0;34m,\u001b[0m\u001b[0mb\u001b[0m \u001b[0;34m=\u001b[0m \u001b[0minitialize_weights_and_bias\u001b[0m\u001b[0;34m(\u001b[0m\u001b[0mdimension\u001b[0m\u001b[0;34m)\u001b[0m\u001b[0;34m\u001b[0m\u001b[0m\n\u001b[1;32m      5\u001b[0m     \u001b[0;31m# do not change learning rate\u001b[0m\u001b[0;34m\u001b[0m\u001b[0;34m\u001b[0m\u001b[0m\n\u001b[0;32m----> 6\u001b[0;31m     \u001b[0mparameters\u001b[0m\u001b[0;34m,\u001b[0m \u001b[0mgradients\u001b[0m\u001b[0;34m,\u001b[0m \u001b[0mcost_list\u001b[0m \u001b[0;34m=\u001b[0m \u001b[0mupdate\u001b[0m\u001b[0;34m(\u001b[0m\u001b[0mw\u001b[0m\u001b[0;34m,\u001b[0m \u001b[0mb\u001b[0m\u001b[0;34m,\u001b[0m \u001b[0mx_train\u001b[0m\u001b[0;34m,\u001b[0m \u001b[0my_train\u001b[0m\u001b[0;34m,\u001b[0m \u001b[0mlearning_rate\u001b[0m\u001b[0;34m,\u001b[0m\u001b[0mnum_iterations\u001b[0m\u001b[0;34m)\u001b[0m\u001b[0;34m\u001b[0m\u001b[0m\n\u001b[0m\u001b[1;32m      7\u001b[0m \u001b[0;34m\u001b[0m\u001b[0m\n\u001b[1;32m      8\u001b[0m     \u001b[0my_prediction_test\u001b[0m \u001b[0;34m=\u001b[0m \u001b[0mpredict\u001b[0m\u001b[0;34m(\u001b[0m\u001b[0mparameters\u001b[0m\u001b[0;34m[\u001b[0m\u001b[0;34m\"weight\"\u001b[0m\u001b[0;34m]\u001b[0m\u001b[0;34m,\u001b[0m\u001b[0mparameters\u001b[0m\u001b[0;34m[\u001b[0m\u001b[0;34m\"bias\"\u001b[0m\u001b[0;34m]\u001b[0m\u001b[0;34m,\u001b[0m\u001b[0mx_test\u001b[0m\u001b[0;34m)\u001b[0m\u001b[0;34m\u001b[0m\u001b[0m\n",
            "\u001b[0;32m<ipython-input-85-98e30183be21>\u001b[0m in \u001b[0;36mupdate\u001b[0;34m(w, b, x_train, y_train, learning_rate, number_of_iterarion)\u001b[0m\n\u001b[1;32m      7\u001b[0m     \u001b[0;32mfor\u001b[0m \u001b[0mi\u001b[0m \u001b[0;32min\u001b[0m \u001b[0mrange\u001b[0m\u001b[0;34m(\u001b[0m\u001b[0mnumber_of_iterarion\u001b[0m\u001b[0;34m)\u001b[0m\u001b[0;34m:\u001b[0m\u001b[0;34m\u001b[0m\u001b[0m\n\u001b[1;32m      8\u001b[0m         \u001b[0;31m# make forward and backward propagation and find cost and gradients\u001b[0m\u001b[0;34m\u001b[0m\u001b[0;34m\u001b[0m\u001b[0m\n\u001b[0;32m----> 9\u001b[0;31m         \u001b[0mcost\u001b[0m\u001b[0;34m,\u001b[0m\u001b[0mgradients\u001b[0m \u001b[0;34m=\u001b[0m \u001b[0mforward_backward_propagation\u001b[0m\u001b[0;34m(\u001b[0m\u001b[0mw\u001b[0m\u001b[0;34m,\u001b[0m\u001b[0mb\u001b[0m\u001b[0;34m,\u001b[0m\u001b[0mx_train\u001b[0m\u001b[0;34m,\u001b[0m\u001b[0my_train\u001b[0m\u001b[0;34m)\u001b[0m\u001b[0;34m\u001b[0m\u001b[0m\n\u001b[0m\u001b[1;32m     10\u001b[0m         \u001b[0mcost_list\u001b[0m\u001b[0;34m.\u001b[0m\u001b[0mappend\u001b[0m\u001b[0;34m(\u001b[0m\u001b[0mcost\u001b[0m\u001b[0;34m)\u001b[0m\u001b[0;34m\u001b[0m\u001b[0m\n\u001b[1;32m     11\u001b[0m         \u001b[0;31m# lets update\u001b[0m\u001b[0;34m\u001b[0m\u001b[0;34m\u001b[0m\u001b[0m\n",
            "\u001b[0;32m<ipython-input-84-9f77ad5fa056>\u001b[0m in \u001b[0;36mforward_backward_propagation\u001b[0;34m(w, b, x_train, y_train)\u001b[0m\n\u001b[1;32m      5\u001b[0m     \u001b[0mz\u001b[0m \u001b[0;34m=\u001b[0m \u001b[0mnp\u001b[0m\u001b[0;34m.\u001b[0m\u001b[0mdot\u001b[0m\u001b[0;34m(\u001b[0m\u001b[0mw\u001b[0m\u001b[0;34m.\u001b[0m\u001b[0mT\u001b[0m\u001b[0;34m,\u001b[0m\u001b[0mx_train\u001b[0m\u001b[0;34m)\u001b[0m \u001b[0;34m+\u001b[0m \u001b[0mb\u001b[0m\u001b[0;34m\u001b[0m\u001b[0m\n\u001b[1;32m      6\u001b[0m     \u001b[0my_head\u001b[0m \u001b[0;34m=\u001b[0m \u001b[0msigmoid\u001b[0m\u001b[0;34m(\u001b[0m\u001b[0mz\u001b[0m\u001b[0;34m)\u001b[0m\u001b[0;34m\u001b[0m\u001b[0m\n\u001b[0;32m----> 7\u001b[0;31m     \u001b[0mloss\u001b[0m \u001b[0;34m=\u001b[0m \u001b[0;34m-\u001b[0m\u001b[0my_train\u001b[0m\u001b[0;34m*\u001b[0m\u001b[0mnp\u001b[0m\u001b[0;34m.\u001b[0m\u001b[0mlog\u001b[0m\u001b[0;34m(\u001b[0m\u001b[0my_head\u001b[0m\u001b[0;34m)\u001b[0m\u001b[0;34m-\u001b[0m\u001b[0;34m(\u001b[0m\u001b[0;36m1\u001b[0m\u001b[0;34m-\u001b[0m\u001b[0my_train\u001b[0m\u001b[0;34m)\u001b[0m\u001b[0;34m*\u001b[0m\u001b[0mnp\u001b[0m\u001b[0;34m.\u001b[0m\u001b[0mlog\u001b[0m\u001b[0;34m(\u001b[0m\u001b[0;36m1\u001b[0m\u001b[0;34m-\u001b[0m\u001b[0my_head\u001b[0m\u001b[0;34m)\u001b[0m\u001b[0;34m\u001b[0m\u001b[0m\n\u001b[0m\u001b[1;32m      8\u001b[0m     \u001b[0mcost\u001b[0m \u001b[0;34m=\u001b[0m \u001b[0;34m(\u001b[0m\u001b[0mnp\u001b[0m\u001b[0;34m.\u001b[0m\u001b[0msum\u001b[0m\u001b[0;34m(\u001b[0m\u001b[0mloss\u001b[0m\u001b[0;34m)\u001b[0m\u001b[0;34m)\u001b[0m\u001b[0;34m/\u001b[0m\u001b[0mx_train\u001b[0m\u001b[0;34m.\u001b[0m\u001b[0mshape\u001b[0m\u001b[0;34m[\u001b[0m\u001b[0;36m1\u001b[0m\u001b[0;34m]\u001b[0m      \u001b[0;31m# x_train.shape[1]  is for scaling\u001b[0m\u001b[0;34m\u001b[0m\u001b[0m\n\u001b[1;32m      9\u001b[0m     \u001b[0;31m# backward propagation\u001b[0m\u001b[0;34m\u001b[0m\u001b[0;34m\u001b[0m\u001b[0m\n",
            "\u001b[0;31mKeyboardInterrupt\u001b[0m: "
          ]
        }
      ]
    },
    {
      "metadata": {
        "_uuid": "ba8b9c960d1735b146fbbad378c90902e7218d59",
        "_cell_guid": "119db4ab-f04c-41c0-aef9-728565786e94"
      },
      "cell_type": "markdown",
      "source": "* Implmenting logistic regression using Sklear with max number of iterations set at 150"
    },
    {
      "metadata": {
        "_uuid": "a13b1565f8a5ae234eaa9ed6da288103a3579938",
        "_cell_guid": "5bc37200-cd53-4da3-a2ef-c630cf1a2d10",
        "trusted": true
      },
      "cell_type": "code",
      "source": "from sklearn import linear_model\nlogreg = linear_model.LogisticRegression(random_state = 42,max_iter= 150)\nprint(\"test accuracy: {} \".format(logreg.fit(x_train.T, y_train.T).score(x_test.T, y_test.T)))\nprint(\"train accuracy: {} \".format(logreg.fit(x_train.T, y_train.T).score(x_train.T, y_train.T)))",
      "execution_count": null,
      "outputs": []
    },
    {
      "metadata": {
        "_uuid": "0a5e286cf360d579eb6e5d5f220dd1a17c458039",
        "_cell_guid": "bbfe8df0-bf38-4842-aec1-c04417a99420"
      },
      "cell_type": "markdown",
      "source": "# Artificial Neural Network (ANN)\n## Size of layers and initializing parameters weights and bias\n* For x_train that has 348 sample $x^{(348)}$:\n$$z^{[1] (348)} =  W^{[1]} x^{(348)} + b^{[1] (348)}$$ \n$$a^{[1] (348)} = \\tanh(z^{[1] (348)})$$\n$$z^{[2] (348)} = W^{[2]} a^{[1] (348)} + b^{[2] (348)}$$\n$$\\hat{y}^{(348)} = a^{[2] (348)} = \\sigma(z^{ [2] (348)})$$\n\n* With logistic regression, we initialize weights 0.01 and bias 0 for initial predictions and we initialize randomly because if we set everything to zero, then it will be hard to train. However, we also need to keep the inital weights small, to ensure that the gradient isn't zero."
    },
    {
      "metadata": {
        "_uuid": "922670a74f6999885759399ebea8b10692796a29",
        "_cell_guid": "089fd577-95a0-4218-9b53-72bf1c0ab206",
        "trusted": true
      },
      "cell_type": "code",
      "source": "# intialize parameters and layer sizes\ndef initialize_parameters_and_layer_sizes_NN(x_train, y_train):\n    parameters = {\"weight1\": np.random.randn(3,x_train.shape[0]) * 0.1,\n                  \"bias1\": np.zeros((3,1)),\n                  \"weight2\": np.random.randn(y_train.shape[0],3) * 0.1,\n                  \"bias2\": np.zeros((y_train.shape[0],1))}\n    return parameters",
      "execution_count": null,
      "outputs": []
    },
    {
      "metadata": {
        "_uuid": "66147bbafbe25dac498f3963ea8419126f624ce9",
        "_cell_guid": "65832cdf-7ee8-447b-a068-48ac2e46b49f"
      },
      "cell_type": "markdown",
      "source": "## Forward propagation\n* We will use the tanh function from numpy"
    },
    {
      "metadata": {
        "_uuid": "41e1e2f1c7afff027ba0a9f9b2fdcbe312e9a194",
        "_cell_guid": "d64d6b90-7f14-453f-a401-4119504496e3",
        "trusted": true
      },
      "cell_type": "code",
      "source": "\ndef forward_propagation_NN(x_train, parameters):\n\n    Z1 = np.dot(parameters[\"weight1\"],x_train) +parameters[\"bias1\"]\n    A1 = np.tanh(Z1)\n    Z2 = np.dot(parameters[\"weight2\"],A1) + parameters[\"bias2\"]\n    A2 = sigmoid(Z2)\n\n    cache = {\"Z1\": Z1,\n             \"A1\": A1,\n             \"Z2\": Z2,\n             \"A2\": A2}\n    \n    return A2, cache\n",
      "execution_count": null,
      "outputs": []
    },
    {
      "metadata": {
        "_uuid": "b55887b28cffc8083a76af45d25957d4f3e9f6fa",
        "_cell_guid": "24143d72-bc62-4f2d-b0cf-4f67a4016299",
        "trusted": true
      },
      "cell_type": "code",
      "source": "# Compute cost\ndef compute_cost_NN(A2, Y, parameters):\n    logprobs = np.multiply(np.log(A2),Y)\n    cost = -np.sum(logprobs)/Y.shape[1]\n    return cost\n",
      "execution_count": null,
      "outputs": []
    },
    {
      "metadata": {
        "_uuid": "6bf7bce2e4413ecdc16ea778008eee4072738aab",
        "_cell_guid": "2fcfd3c4-f935-4272-a284-c2dbc2c35afb",
        "trusted": true
      },
      "cell_type": "code",
      "source": "# Backward Propagation\ndef backward_propagation_NN(parameters, cache, X, Y):\n\n    dZ2 = cache[\"A2\"]-Y\n    dW2 = np.dot(dZ2,cache[\"A1\"].T)/X.shape[1]\n    db2 = np.sum(dZ2,axis =1,keepdims=True)/X.shape[1]\n    dZ1 = np.dot(parameters[\"weight2\"].T,dZ2)*(1 - np.power(cache[\"A1\"], 2))\n    dW1 = np.dot(dZ1,X.T)/X.shape[1]\n    db1 = np.sum(dZ1,axis =1,keepdims=True)/X.shape[1]\n    grads = {\"dweight1\": dW1,\n             \"dbias1\": db1,\n             \"dweight2\": dW2,\n             \"dbias2\": db2}\n    return grads",
      "execution_count": null,
      "outputs": []
    },
    {
      "metadata": {
        "_uuid": "facf2b475cb82e14dcc6be56b57fe2c3ad0b1a8f",
        "_cell_guid": "d9ae95d4-1d11-4293-822d-e1d5f0c16d1e",
        "trusted": true
      },
      "cell_type": "code",
      "source": "# update parameters\ndef update_parameters_NN(parameters, grads, learning_rate = 0.01):\n    parameters = {\"weight1\": parameters[\"weight1\"]-learning_rate*grads[\"dweight1\"],\n                  \"bias1\": parameters[\"bias1\"]-learning_rate*grads[\"dbias1\"],\n                  \"weight2\": parameters[\"weight2\"]-learning_rate*grads[\"dweight2\"],\n                  \"bias2\": parameters[\"bias2\"]-learning_rate*grads[\"dbias2\"]}\n    \n    return parameters",
      "execution_count": null,
      "outputs": []
    },
    {
      "metadata": {
        "_uuid": "9c471502563017fabb991494359091215e4ad583",
        "_cell_guid": "ac416480-ec9c-45b4-ac9d-1caeded9ba90"
      },
      "cell_type": "markdown",
      "source": "## Prediction with learnt parameters weight and bias"
    },
    {
      "metadata": {
        "_uuid": "53c00c4430c6fcc3298dde8de804cab71884caa5",
        "_cell_guid": "96004eb5-d6ca-41ab-a577-70fb0628a2f4",
        "trusted": true
      },
      "cell_type": "code",
      "source": "# prediction\ndef predict_NN(parameters,x_test):\n    # x_test is a input for forward propagation\n    A2, cache = forward_propagation_NN(x_test,parameters)\n    Y_prediction = np.zeros((1,x_test.shape[1]))\n    # if z is bigger than 0.5, our prediction is sign one (y_head=1),\n    # if z is smaller than 0.5, our prediction is sign zero (y_head=0),\n    for i in range(A2.shape[1]):\n        if A2[0,i]<= 0.5:\n            Y_prediction[0,i] = 0\n        else:\n            Y_prediction[0,i] = 1\n\n    return Y_prediction",
      "execution_count": null,
      "outputs": []
    }
  ],
  "metadata": {
    "language_info": {
      "name": "python",
      "version": "3.6.6",
      "mimetype": "text/x-python",
      "codemirror_mode": {
        "name": "ipython",
        "version": 3
      },
      "pygments_lexer": "ipython3",
      "nbconvert_exporter": "python",
      "file_extension": ".py"
    },
    "kernelspec": {
      "display_name": "Python 3",
      "language": "python",
      "name": "python3"
    }
  },
  "nbformat": 4,
  "nbformat_minor": 1
}